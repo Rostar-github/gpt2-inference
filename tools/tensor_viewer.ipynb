{
 "cells": [
  {
   "cell_type": "code",
   "execution_count": 2,
   "metadata": {},
   "outputs": [
    {
     "name": "stdout",
     "output_type": "stream",
     "text": [
      "[[[-1.8592866e+03 -6.0910352e+02  1.0238965e+02 ... -1.6592955e+03\n",
      "   -6.8048712e+02  1.4447288e+03]\n",
      "  [-9.7029321e+02 -1.6238801e+03 -1.0687124e+03 ... -2.4543515e+02\n",
      "   -4.0998511e+02 -9.3554529e+02]\n",
      "  [ 2.9193201e+03 -3.7448657e+02  5.3158086e+03 ...  8.9458044e+02\n",
      "    2.9785352e+03 -3.1847051e+03]\n",
      "  ...\n",
      "  [ 3.1056545e+03  4.9516345e+02  1.3221644e+03 ... -9.4587689e+02\n",
      "   -3.0929612e+03  1.5296842e+03]\n",
      "  [-5.8948057e+03  8.6694619e+03 -7.5907383e+03 ... -3.0181158e+04\n",
      "    7.9089121e+03 -5.8532432e+03]\n",
      "  [ 3.6884097e+03  2.0696111e+03  4.6240552e+03 ... -1.5609192e+03\n",
      "   -4.6718915e+02  2.4865196e+01]]]\n"
     ]
    }
   ],
   "source": [
    "import numpy as np\n",
    "\n",
    "tensor = np.load(\"/wanglina/cuda/cuda_example/tools/tesnor.npy\")\n",
    "\n",
    "print(tensor)"
   ]
  }
 ],
 "metadata": {
  "kernelspec": {
   "display_name": "base",
   "language": "python",
   "name": "python3"
  },
  "language_info": {
   "codemirror_mode": {
    "name": "ipython",
    "version": 3
   },
   "file_extension": ".py",
   "mimetype": "text/x-python",
   "name": "python",
   "nbconvert_exporter": "python",
   "pygments_lexer": "ipython3",
   "version": "3.7.16"
  },
  "orig_nbformat": 4
 },
 "nbformat": 4,
 "nbformat_minor": 2
}
